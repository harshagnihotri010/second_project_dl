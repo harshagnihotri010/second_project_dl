{
 "cells": [
  {
   "cell_type": "code",
   "execution_count": null,
   "metadata": {},
   "outputs": [],
   "source": [
    "import pandas as pd\n",
    "import numpy as np\n",
    "import tensorflow as tf\n",
    "\n",
    "import keras\n",
    "from keras.layers import Input,Conv2D,Flatten,Dense\n",
    "from keras.applications import VGG16"
   ]
  },
  {
   "cell_type": "code",
   "execution_count": null,
   "metadata": {},
   "outputs": [],
   "source": [
    "def multiclass_cnn():\n",
    "    \n",
    "    input_to_cnn = Input(shape=(32,32,1))\n",
    "    first_conv_out = Conv2D(filters=50,kernel_size=(3,3),activation=\"relu\")(input_to_cnn)\n",
    "    second_conv_out = Conv2D(filters=100,kernel_size=(5,5),padding=\"same\",activation=\"relu\",strides=(2,2))(first_conv_out)\n",
    "    \n",
    "    input_feature_vector = Flatten()(second_conv_out)\n",
    "    output = Dense(units=46,activation=\"softmax\")(input_feature_vector)\n",
    "    \n",
    "    return "
   ]
  },
  {
   "cell_type": "code",
   "execution_count": null,
   "metadata": {},
   "outputs": [],
   "source": []
  }
 ],
 "metadata": {
  "kernelspec": {
   "display_name": ".venv",
   "language": "python",
   "name": "python3"
  },
  "language_info": {
   "name": "python",
   "version": "3.10.12"
  }
 },
 "nbformat": 4,
 "nbformat_minor": 2
}
